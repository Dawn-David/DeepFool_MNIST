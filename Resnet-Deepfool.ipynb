{
 "cells": [
  {
   "cell_type": "markdown",
   "metadata": {},
   "source": [
    "# DeepFool攻击，针对resnet18，Mnist"
   ]
  },
  {
   "cell_type": "code",
   "execution_count": 1,
   "metadata": {},
   "outputs": [],
   "source": [
    "import torch.nn as nn\n",
    "import torch.nn.functional as F\n",
    "import torchvision\n",
    "import torchvision.transforms as transforms\n",
    "import numpy as np\n",
    "import matplotlib.pyplot as plt\n",
    "import torch\n",
    "import torch.optim as optim\n",
    "import torch.utils.data as data_utils\n",
    "import torchvision.models as models\n",
    "from torch.autograd import Variable\n",
    "from torchvision import datasets\n",
    "from torchvision import utils as vutils\n",
    "from torch.autograd.gradcheck import zero_gradients\n",
    "\n",
    "import math\n",
    "import copy\n",
    "from PIL import Image\n",
    "from deepfool_fashion import deepfool\n",
    "from pathlib import Path\n",
    "\n",
    "from model import utils\n",
    "from model import model\n",
    "import os\n",
    "import time \n",
    "import datetime"
   ]
  },
  {
   "cell_type": "markdown",
   "metadata": {},
   "source": [
    "## 数据加载"
   ]
  },
  {
   "cell_type": "code",
   "execution_count": 2,
   "metadata": {},
   "outputs": [],
   "source": [
    "PATH = Path('./')"
   ]
  },
  {
   "cell_type": "code",
   "execution_count": 3,
   "metadata": {},
   "outputs": [],
   "source": [
    "# MNIST Test dataset 和 dataloader 声明\n",
    "test_transforms = transforms.Compose([\n",
    "     transforms.ToTensor(),\n",
    "     transforms.Normalize((0.1307,), (0.3081,))\n",
    "])\n",
    "\n",
    "test_dataset = datasets.MNIST(PATH / 'data/MNIST',\n",
    "                              download=True,\n",
    "                              train=False, \n",
    "                              transform=test_transforms)\n",
    "test_loader = torch.utils.data.DataLoader(dataset=test_dataset,\n",
    "                                          batch_size=1, \n",
    "                                          shuffle=True)"
   ]
  },
  {
   "cell_type": "code",
   "execution_count": 4,
   "metadata": {},
   "outputs": [
    {
     "name": "stdout",
     "output_type": "stream",
     "text": [
      "类别： tensor(7)\n"
     ]
    },
    {
     "data": {
      "image/png": "[encoded data removed]",
      "text/plain": [
       "<Figure size 432x288 with 1 Axes>"
      ]
     },
     "metadata": {
      "needs_background": "light"
     },
     "output_type": "display_data"
    }
   ],
   "source": [
    "image = test_dataset[0][0]\n",
    "label = test_dataset[0][1]\n",
    "print(\"类别：\", label)\n",
    "plt.imshow(image.reshape(28, 28),cmap = plt.cm.gray)\n",
    "plt.show()"
   ]
  },
  {
   "cell_type": "markdown",
   "metadata": {},
   "source": [
    "## 模型加载"
   ]
  },
  {
   "cell_type": "code",
   "execution_count": 5,
   "metadata": {},
   "outputs": [
    {
     "name": "stdout",
     "output_type": "stream",
     "text": [
      "Training on cuda:1\n"
     ]
    }
   ],
   "source": [
    "device = torch.device(\"cuda:1\" if torch.cuda.is_available() else \"cpu\")\n",
    "print('Training on {}'.format(device))"
   ]
  },
  {
   "cell_type": "code",
   "execution_count": 6,
   "metadata": {
    "scrolled": true
   },
   "outputs": [
    {
     "data": {
      "text/plain": [
       "ResNet(\n",
       "  (conv1): Conv2d(1, 64, kernel_size=(3, 3), stride=(1, 1), padding=(1, 1), bias=False)\n",
       "  (bn1): BatchNorm2d(64, eps=1e-05, momentum=0.1, affine=True, track_running_stats=True)\n",
       "  (relu): ReLU(inplace=True)\n",
       "  (layer1): Sequential(\n",
       "    (0): BasicBlock(\n",
       "      (conv1): Conv2d(64, 64, kernel_size=(3, 3), stride=(1, 1), padding=(1, 1), bias=False)\n",
       "      (bn1): BatchNorm2d(64, eps=1e-05, momentum=0.1, affine=True, track_running_stats=True)\n",
       "      (relu): ReLU(inplace=True)\n",
       "      (conv2): Conv2d(64, 64, kernel_size=(3, 3), stride=(1, 1), padding=(1, 1), bias=False)\n",
       "      (bn2): BatchNorm2d(64, eps=1e-05, momentum=0.1, affine=True, track_running_stats=True)\n",
       "    )\n",
       "    (1): BasicBlock(\n",
       "      (conv1): Conv2d(64, 64, kernel_size=(3, 3), stride=(1, 1), padding=(1, 1), bias=False)\n",
       "      (bn1): BatchNorm2d(64, eps=1e-05, momentum=0.1, affine=True, track_running_stats=True)\n",
       "      (relu): ReLU(inplace=True)\n",
       "      (conv2): Conv2d(64, 64, kernel_size=(3, 3), stride=(1, 1), padding=(1, 1), bias=False)\n",
       "      (bn2): BatchNorm2d(64, eps=1e-05, momentum=0.1, affine=True, track_running_stats=True)\n",
       "    )\n",
       "  )\n",
       "  (layer2): Sequential(\n",
       "    (0): BasicBlock(\n",
       "      (conv1): Conv2d(64, 128, kernel_size=(3, 3), stride=(2, 2), padding=(1, 1), bias=False)\n",
       "      (bn1): BatchNorm2d(128, eps=1e-05, momentum=0.1, affine=True, track_running_stats=True)\n",
       "      (relu): ReLU(inplace=True)\n",
       "      (conv2): Conv2d(128, 128, kernel_size=(3, 3), stride=(1, 1), padding=(1, 1), bias=False)\n",
       "      (bn2): BatchNorm2d(128, eps=1e-05, momentum=0.1, affine=True, track_running_stats=True)\n",
       "      (downsample): Sequential(\n",
       "        (0): Conv2d(64, 128, kernel_size=(1, 1), stride=(2, 2), bias=False)\n",
       "        (1): BatchNorm2d(128, eps=1e-05, momentum=0.1, affine=True, track_running_stats=True)\n",
       "      )\n",
       "    )\n",
       "    (1): BasicBlock(\n",
       "      (conv1): Conv2d(128, 128, kernel_size=(3, 3), stride=(1, 1), padding=(1, 1), bias=False)\n",
       "      (bn1): BatchNorm2d(128, eps=1e-05, momentum=0.1, affine=True, track_running_stats=True)\n",
       "      (relu): ReLU(inplace=True)\n",
       "      (conv2): Conv2d(128, 128, kernel_size=(3, 3), stride=(1, 1), padding=(1, 1), bias=False)\n",
       "      (bn2): BatchNorm2d(128, eps=1e-05, momentum=0.1, affine=True, track_running_stats=True)\n",
       "    )\n",
       "  )\n",
       "  (layer3): Sequential(\n",
       "    (0): BasicBlock(\n",
       "      (conv1): Conv2d(128, 256, kernel_size=(3, 3), stride=(2, 2), padding=(1, 1), bias=False)\n",
       "      (bn1): BatchNorm2d(256, eps=1e-05, momentum=0.1, affine=True, track_running_stats=True)\n",
       "      (relu): ReLU(inplace=True)\n",
       "      (conv2): Conv2d(256, 256, kernel_size=(3, 3), stride=(1, 1), padding=(1, 1), bias=False)\n",
       "      (bn2): BatchNorm2d(256, eps=1e-05, momentum=0.1, affine=True, track_running_stats=True)\n",
       "      (downsample): Sequential(\n",
       "        (0): Conv2d(128, 256, kernel_size=(1, 1), stride=(2, 2), bias=False)\n",
       "        (1): BatchNorm2d(256, eps=1e-05, momentum=0.1, affine=True, track_running_stats=True)\n",
       "      )\n",
       "    )\n",
       "    (1): BasicBlock(\n",
       "      (conv1): Conv2d(256, 256, kernel_size=(3, 3), stride=(1, 1), padding=(1, 1), bias=False)\n",
       "      (bn1): BatchNorm2d(256, eps=1e-05, momentum=0.1, affine=True, track_running_stats=True)\n",
       "      (relu): ReLU(inplace=True)\n",
       "      (conv2): Conv2d(256, 256, kernel_size=(3, 3), stride=(1, 1), padding=(1, 1), bias=False)\n",
       "      (bn2): BatchNorm2d(256, eps=1e-05, momentum=0.1, affine=True, track_running_stats=True)\n",
       "    )\n",
       "  )\n",
       "  (avgpool): AvgPool2d(kernel_size=7, stride=7, padding=0)\n",
       "  (fc): Linear(in_features=256, out_features=10, bias=True)\n",
       ")"
      ]
     },
     "execution_count": 6,
     "metadata": {},
     "output_type": "execute_result"
    }
   ],
   "source": [
    "# 初始化网络\n",
    "res = model.resnet18().to(device)\n",
    "# 加载预训练模型\n",
    "state = torch.load(PATH / \"model/resnet18-run-0.pth.tar\")\n",
    "res.load_state_dict(state['state_dict'])\n",
    "res.eval()"
   ]
  },
  {
   "cell_type": "code",
   "execution_count": 7,
   "metadata": {},
   "outputs": [],
   "source": [
    "# 前向传播，输出网络预测值\n",
    "def output(sample, net):\n",
    "    sample = sample.float().to(device)\n",
    "    output = res(sample).cpu()\n",
    "    _, pre = torch.max(output.data, 1)\n",
    "    return pre\n",
    "\n",
    "# 图片还原\n",
    "def unnormal(sample, mean, std):\n",
    "    sample = sample.reshape(28, 28)\n",
    "    sample = sample*std + mean\n",
    "    sample = sample.reshape(1, 1, 28, 28)\n",
    "    return sample\n",
    "\n",
    "# 保存被攻击的图片\n",
    "def draw(sample, label, folder, num):\n",
    "    sample = unnormal(sample, 0.1307, 0.3081)\n",
    "    sample = sample.to(torch.device('cpu'))\n",
    "    # 保存被攻击的图片\n",
    "    id_no = time.strftime('%Y%m%d_%H%M%S', datetime.datetime.now().timetuple())\n",
    "    vutils.save_image(sample, os.path.join(PATH / \"images\", folder, \"{}_{}_{}.png\".format(id_no, label, num)))"
   ]
  },
  {
   "cell_type": "code",
   "execution_count": 8,
   "metadata": {},
   "outputs": [],
   "source": [
    "# 创建保存图片的文件夹\n",
    "folder = time.strftime('%Y%m%d_%H%M%S', datetime.datetime.now().timetuple())\n",
    "os.mkdir(os.path.join(PATH / \"images\", folder))"
   ]
  },
  {
   "cell_type": "markdown",
   "metadata": {},
   "source": [
    "# Deepfool攻击"
   ]
  },
  {
   "cell_type": "code",
   "execution_count": 11,
   "metadata": {
    "scrolled": true
   },
   "outputs": [
    {
     "name": "stdout",
     "output_type": "stream",
     "text": [
      "准确率: 0.0000 %\n",
      "准确率: 0.0000 %\n",
      "准确率: 0.0000 %\n",
      "准确率: 0.0000 %\n",
      "准确率: 0.0000 %\n",
      "准确率: 0.0000 %\n",
      "准确率: 0.0000 %\n",
      "准确率: 0.0000 %\n",
      "准确率: 0.0000 %\n",
      "准确率: 0.0000 %\n",
      "准确率: 0.0000 %\n",
      "原始准确率: 99.5700 %\n"
     ]
    }
   ],
   "source": [
    "false = 0        # 原网络的分类错误数\n",
    "correct = 0      # Deepfool攻击后，分类正确的数\n",
    "total = 0\n",
    "per_num = 0      #对抗样本个数\n",
    "per = np.zeros((10000, 28, 28))            # 扰动\n",
    "loop = []                                  # 迭代次数\n",
    "per_label = []                             # 对抗样本的标签\n",
    "per_image = torch.zeros((10000, 28, 28))   # 对抗样本\n",
    "for images, labels in test_loader:\n",
    "    total += labels.size(0)\n",
    "    predicted = output(images, res)\n",
    "    # 只对分类正确的样本，生成对抗样本\n",
    "    if predicted==labels:\n",
    "        r, loop_i, label_orig, label_pert, pert_image = deepfool(images, res, device)\n",
    "        if label_pert == label_orig:\n",
    "            correct += 1\n",
    "        else:\n",
    "            per[per_num] = r.reshape(28, 28)                  # 扰动\n",
    "            loop = np.append(loop, loop_i)                    # 迭代次数\n",
    "            per_label = np.append(per_label, label_pert)      # 对抗样本的标签\n",
    "            per_image[per_num] =  pert_image.reshape(28, 28)  # 对抗样本\n",
    "            per_num += 1\n",
    "    else:\n",
    "        false += 1\n",
    "    if total%1000==0:\n",
    "        print('准确率: %.4f %%' % (100 * correct / total))\n",
    "print('准确率: %.4f %%' % (100 * correct / total)) \n",
    "print('原始准确率: %.4f %%' % (100 * (1 - false / total))) "
   ]
  },
  {
   "cell_type": "code",
   "execution_count": 12,
   "metadata": {},
   "outputs": [],
   "source": [
    "# 保存对抗样本\n",
    "for num in range(per_num):\n",
    "    draw(per_image[num], per_label[num], folder, num)"
   ]
  },
  {
   "cell_type": "code",
   "execution_count": 13,
   "metadata": {},
   "outputs": [
    {
     "name": "stdout",
     "output_type": "stream",
     "text": [
      "二范数扰动： 0.18409732062160808\n"
     ]
    }
   ],
   "source": [
    "# 计算扰动大小=扰动的二范数/x的二范数\n",
    "p_2 = 0\n",
    "for i in range(per_num):\n",
    "    r_2 = np.linalg.norm(per[i])\n",
    "    x = per_image.cpu().numpy()\n",
    "    x_2 = np.linalg.norm(x[i])\n",
    "    p_2 += r_2/x_2\n",
    "p_2 = p_2/per_num\n",
    "print('二范数扰动：', p_2)"
   ]
  },
  {
   "cell_type": "code",
   "execution_count": 14,
   "metadata": {},
   "outputs": [
    {
     "name": "stdout",
     "output_type": "stream",
     "text": [
      "原始类别： 3\n",
      "样本类别： 5.0\n"
     ]
    },
    {
     "data": {
      "image/png": "[encoded data removed]",
      "text/plain": [
       "<Figure size 432x288 with 1 Axes>"
      ]
     },
     "metadata": {
      "needs_background": "light"
     },
     "output_type": "display_data"
    },
    {
     "data": {
      "image/png": "[encoded data removed]",
      "text/plain": [
       "<Figure size 432x288 with 1 Axes>"
      ]
     },
     "metadata": {
      "needs_background": "light"
     },
     "output_type": "display_data"
    }
   ],
   "source": [
    "print(\"原始类别：\", label_orig)\n",
    "print(\"样本类别：\", per_label[per_num-1])\n",
    "plt.imshow(per_image[per_num-1].reshape(28, 28),cmap = plt.cm.gray)\n",
    "plt.show()\n",
    "plt.imshow(per[per_num-1].reshape(28, 28),cmap = plt.cm.gray)\n",
    "plt.show()"
   ]
  },
  {
   "cell_type": "code",
   "execution_count": null,
   "metadata": {},
   "outputs": [],
   "source": []
  }
 ],
 "metadata": {
  "kernelspec": {
   "display_name": "Python 3",
   "language": "python",
   "name": "python3"
  },
  "language_info": {
   "codemirror_mode": {
    "name": "ipython",
    "version": 3
   },
   "file_extension": ".py",
   "mimetype": "text/x-python",
   "name": "python",
   "nbconvert_exporter": "python",
   "pygments_lexer": "ipython3",
   "version": "3.7.7"
  }
 },
 "nbformat": 4,
 "nbformat_minor": 4
}
